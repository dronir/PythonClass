{
 "cells": [
  {
   "cell_type": "markdown",
   "metadata": {},
   "source": [
    "# Basics of HDF5 files in Python\n",
    "\n",
    "HDF5 (_Hierarchical Data Format_) is a file format for efficient use and storage of large array-like data sets. Even very large (multi-gigabyte) data can be handled in a way that allows the program to deal with only the necessary parts of the file without having to loading the entire file.\n",
    "\n",
    "This is a quick guide on using the `H5PY` package in Python to handle HDF5 files. The full documentation of `H5PY` can be found at http://www.h5py.org/. A quickstart guide, which as very much the same information as this document, can be found at http://docs.h5py.org/en/latest/quick.html.\n",
    "\n",
    "## A _very_ brief introduction to the HDF5 format\n",
    "\n",
    "A HDF5 file is \"hierarchical\", because it consists of _groups_, which can contain other groups or _datasets_. For our purposes, a dataset is basically one array. \n",
    "\n",
    "The group/dataset hierarchy is organized by name very much like the file system of a Unix-like operating system. At the lowest level is the _root group_, called `/`. A dataset called `mydata` in the root group has the path `/mydata`. Other groups are like \"subdirectories\" of the root group: `/group1/mydata2`, `/group1/subgroup/moredata`, etc."
   ]
  },
  {
   "cell_type": "code",
   "execution_count": 48,
   "metadata": {
    "collapsed": false
   },
   "outputs": [],
   "source": [
    "# Some plotting tools\n",
    "%matplotlib inline\n",
    "import seaborn\n",
    "import matplotlib.pyplot as plt\n",
    "\n",
    "import numpy as np\n",
    "import h5py"
   ]
  },
  {
   "cell_type": "markdown",
   "metadata": {},
   "source": [
    "## Creating an HDF5 file\n",
    "\n",
    "Let's first create some data. Let's just make it a simple array of $x$ values in $0$ to $2\\pi$ in the first column, $y = \\sin x$ in the second column and $y = \\cos x$ in the third column. We'll give it 100 rows."
   ]
  },
  {
   "cell_type": "code",
   "execution_count": 33,
   "metadata": {
    "collapsed": false
   },
   "outputs": [],
   "source": [
    "data = np.zeros((100,3))\n",
    "data[:,0] = np.linspace(0, 2*np.pi, 100)\n",
    "data[:,1] = np.sin(data[:,0])\n",
    "data[:,2] = np.cos(data[:,0])"
   ]
  },
  {
   "cell_type": "markdown",
   "metadata": {},
   "source": [
    "A very good way is to use the file object as a context managed, with the `with` keyword. This way, the file is closed and all file I/O is managed automatically when the `with` block ends.\n",
    "\n",
    "We'll also set some _attributes_. Attributes are metadata fields, which any group or dataset can contain. They are used like a regular dictionary."
   ]
  },
  {
   "cell_type": "code",
   "execution_count": 58,
   "metadata": {
    "collapsed": false
   },
   "outputs": [],
   "source": [
    "with h5py.File(\"example.hdf5\", \"w\") as outputfile:\n",
    "    # Create the dataset\n",
    "    dset = outputfile.create_dataset(\"sine_array\", (100, 3), \"f\")\n",
    "    \n",
    "    # Set the values of the dataset\n",
    "    dset[...] = data\n",
    "    \n",
    "    # Set attributes\n",
    "    outputfile.attrs[\"title\"] = \"An example HDF5 file\"\n",
    "    dset.attrs[\"description\"] = \"An array with some values of x, sin(x) and cos(x)\"\n",
    "    dset.attrs[\"Npoints\"] = 100\n",
    "    \n",
    "    # Create a group\n",
    "    my_group = outputfile.create_group(\"example_group\")"
   ]
  },
  {
   "cell_type": "markdown",
   "metadata": {},
   "source": [
    "After the last line, a new dataset or group could be created inside `my_group` by writing `my_group.create_dataset(...)` etc."
   ]
  },
  {
   "cell_type": "markdown",
   "metadata": {},
   "source": [
    "## Reading an HDF5 file\n",
    "\n",
    "At their simplest, HDF5 files can be used almost exactly like a regular Python dictionary. The following loops over all of the root level keys of a file and prints some properties. In this case our file has only one root-level key, because we created only one dataset in the file."
   ]
  },
  {
   "cell_type": "code",
   "execution_count": 54,
   "metadata": {
    "collapsed": false
   },
   "outputs": [
    {
     "name": "stdout",
     "output_type": "stream",
     "text": [
      "example_group\n",
      "/example_group\n",
      "sine_array\n",
      "/sine_array\n",
      "<HDF5 dataset \"sine_array\": shape (100, 3), type \"<f4\">\n"
     ]
    }
   ],
   "source": [
    "inputfile = h5py.File(\"example.hdf5\", \"r\")\n",
    "\n",
    "for key in inputfile:\n",
    "    print(key)\n",
    "    print(inputfile[key].name)\n",
    "\n",
    "print(inputfile[\"sine_array\"])"
   ]
  },
  {
   "cell_type": "markdown",
   "metadata": {},
   "source": [
    "This shows how to read the dataset from the file we created and makes a plot of the data."
   ]
  },
  {
   "cell_type": "code",
   "execution_count": 55,
   "metadata": {
    "collapsed": false
   },
   "outputs": [
    {
     "data": {
      "text/plain": [
       "[<matplotlib.lines.Line2D at 0x113b65550>]"
      ]
     },
     "execution_count": 55,
     "metadata": {},
     "output_type": "execute_result"
    },
    {
     "data": {
      "image/png": "[encoded data removed]",
      "text/plain": [
       "<matplotlib.figure.Figure at 0x113b655f8>"
      ]
     },
     "metadata": {},
     "output_type": "display_data"
    }
   ],
   "source": [
    "# Read the dataset as a NumPy array\n",
    "data = np.array(inputfile[\"sine_array\"])\n",
    "\n",
    "# Make a plot\n",
    "plt.plot(data[:,0], data[:,1])\n",
    "plt.plot(data[:,0], data[:,2])"
   ]
  },
  {
   "cell_type": "code",
   "execution_count": 57,
   "metadata": {
    "collapsed": true
   },
   "outputs": [],
   "source": [
    "inputfile.close()"
   ]
  },
  {
   "cell_type": "code",
   "execution_count": null,
   "metadata": {
    "collapsed": true
   },
   "outputs": [],
   "source": []
  }
 ],
 "metadata": {
  "kernelspec": {
   "display_name": "Python 3",
   "language": "python",
   "name": "python3"
  },
  "language_info": {
   "codemirror_mode": {
    "name": "ipython",
    "version": 3
   },
   "file_extension": ".py",
   "mimetype": "text/x-python",
   "name": "python",
   "nbconvert_exporter": "python",
   "pygments_lexer": "ipython3",
   "version": "3.5.0"
  }
 },
 "nbformat": 4,
 "nbformat_minor": 0
}
