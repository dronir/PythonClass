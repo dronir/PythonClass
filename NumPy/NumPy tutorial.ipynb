{
 "cells": [
  {
   "cell_type": "markdown",
   "metadata": {},
   "source": [
    "# Quick basics of NumPy\n",
    "\n",
    "Numpy is traditionally imported with the name `np` to make it shorter to type repeatedly. It's also common to import often-used names individually at the same time."
   ]
  },
  {
   "cell_type": "code",
   "execution_count": 4,
   "metadata": {
    "collapsed": false
   },
   "outputs": [],
   "source": [
    "import numpy as np\n",
    "from numpy import pi, sin, cos\n"
   ]
  },
  {
   "cell_type": "markdown",
   "metadata": {},
   "source": [
    "## Arrays\n",
    "\n",
    "The core of NumPy is the `array`. This is a multi-dimensional array, which can be used to efficiently store numerical data (compared to the standard Python tools such as lists).\n",
    "\n",
    "Most Python libraries for numerical work use NumPy as their back-end. Many functions in these libraries return NumPy arrays.\n",
    "\n",
    "### Creating arrays\n",
    "\n",
    "When a new array is needed, it can be created from various pre-existing objects (often Python lists). There are also many functions in NumPy that return arrays with different contents (such as arrays of random numbers).\n",
    "\n",
    "For most functions that create arrays, the arrays _shape_ must be given as a tuple of integers, such as `(100, 2)` for an array of 100 rows and 2 columns, or `(20, 20, 20)` for a 20 cells wide data cube.\n",
    "\n",
    "Note that a one-dimensional array with shape `(100,)` is different from a two-dimensional array with shape `(100,1)` or `(1,100)`. This distinction can be significant in some situations."
   ]
  },
  {
   "cell_type": "code",
   "execution_count": 5,
   "metadata": {
    "collapsed": false
   },
   "outputs": [
    {
     "data": {
      "text/plain": [
       "array([  1.,  15.,  -4.,  12.])"
      ]
     },
     "execution_count": 5,
     "metadata": {},
     "output_type": "execute_result"
    }
   ],
   "source": [
    "# A regular Python list:\n",
    "numbers = [1.0, 15.0, -4.0, 12.0]\n",
    "\n",
    "# A numpy array made from this list:\n",
    "np.array(numbers)"
   ]
  },
  {
   "cell_type": "code",
   "execution_count": 23,
   "metadata": {
    "collapsed": false
   },
   "outputs": [
    {
     "data": {
      "text/plain": [
       "array([[2, 2],\n",
       "       [3, 4]])"
      ]
     },
     "execution_count": 23,
     "metadata": {},
     "output_type": "execute_result"
    }
   ],
   "source": [
    "# A list of Python lists:\n",
    "numbers_2d = [[2,2], [3,4]]\n",
    "np.array(numbers_2d)"
   ]
  },
  {
   "cell_type": "code",
   "execution_count": 7,
   "metadata": {
    "collapsed": false
   },
   "outputs": [
    {
     "data": {
      "text/plain": [
       "array([ 0.        ,  1.        ,  1.41421356,  1.73205081,  2.        ,\n",
       "        2.23606798,  2.44948974,  2.64575131,  2.82842712,  3.        ])"
      ]
     },
     "execution_count": 7,
     "metadata": {},
     "output_type": "execute_result"
    }
   ],
   "source": [
    "# A numpy array made from a list:\n",
    "np.array([np.sqrt(x) for x in range(10)])"
   ]
  },
  {
   "cell_type": "code",
   "execution_count": 12,
   "metadata": {
    "collapsed": false
   },
   "outputs": [
    {
     "data": {
      "text/plain": [
       "array([[ 0.,  0.,  0.],\n",
       "       [ 0.,  0.,  0.],\n",
       "       [ 0.,  0.,  0.],\n",
       "       [ 0.,  0.,  0.],\n",
       "       [ 0.,  0.,  0.]])"
      ]
     },
     "execution_count": 12,
     "metadata": {},
     "output_type": "execute_result"
    }
   ],
   "source": [
    "# A numpy array with shape (50, 3), containing zeroes:\n",
    "np.zeros((5, 3))"
   ]
  },
  {
   "cell_type": "code",
   "execution_count": 18,
   "metadata": {
    "collapsed": false
   },
   "outputs": [
    {
     "data": {
      "text/plain": [
       "array([ 0.,  0.,  0.])"
      ]
     },
     "execution_count": 18,
     "metadata": {},
     "output_type": "execute_result"
    }
   ],
   "source": [
    "# For one-dimentional arrays an integer can be given as the shape:\n",
    "np.zeros(3)"
   ]
  },
  {
   "cell_type": "code",
   "execution_count": 19,
   "metadata": {
    "collapsed": false
   },
   "outputs": [
    {
     "data": {
      "text/plain": [
       "array([[0, 0, 0, 0],\n",
       "       [0, 0, 0, 0],\n",
       "       [0, 0, 0, 0],\n",
       "       [0, 0, 0, 0],\n",
       "       [0, 0, 0, 0]], dtype=int32)"
      ]
     },
     "execution_count": 19,
     "metadata": {},
     "output_type": "execute_result"
    }
   ],
   "source": [
    "### The type of the array elements can be set manually. This is most often\n",
    "# needed when an array of integers is required:\n",
    "np.zeros((5, 4), dtype=\"i\")"
   ]
  },
  {
   "cell_type": "code",
   "execution_count": 24,
   "metadata": {
    "collapsed": false
   },
   "outputs": [
    {
     "data": {
      "text/plain": [
       "array([ 0.  ,  0.25,  0.5 ,  0.75,  1.  ])"
      ]
     },
     "execution_count": 24,
     "metadata": {},
     "output_type": "execute_result"
    }
   ],
   "source": [
    "# np.linspace(a, b, N) creates a 1-D array with N values evenly spaced from a to b:\n",
    "np.linspace(0.0, 1.0, 5)"
   ]
  },
  {
   "cell_type": "code",
   "execution_count": 22,
   "metadata": {
    "collapsed": false
   },
   "outputs": [
    {
     "data": {
      "text/plain": [
       "array([ 0.,  1.,  2.,  3.,  4.,  5.,  6.,  7.,  8.,  9.], dtype=float32)"
      ]
     },
     "execution_count": 22,
     "metadata": {},
     "output_type": "execute_result"
    }
   ],
   "source": [
    "# np.arange() works exactly like Python's range() function, but returns an array\n",
    "# instead of a Python list:\n",
    "np.arange(10, dtype=\"f\")"
   ]
  },
  {
   "cell_type": "markdown",
   "metadata": {},
   "source": [
    "### Array arithmetics\n",
    "\n",
    "Normal arithmetic operations work on arrays element-wise. Operations with individual numbers also work as expected."
   ]
  },
  {
   "cell_type": "code",
   "execution_count": 25,
   "metadata": {
    "collapsed": false
   },
   "outputs": [],
   "source": [
    "A = np.linspace(0, 1, 5)\n",
    "B = np.linspace(10, 12, 5)"
   ]
  },
  {
   "cell_type": "code",
   "execution_count": 26,
   "metadata": {
    "collapsed": false
   },
   "outputs": [
    {
     "data": {
      "text/plain": [
       "array([ 10.  ,  10.75,  11.5 ,  12.25,  13.  ])"
      ]
     },
     "execution_count": 26,
     "metadata": {},
     "output_type": "execute_result"
    }
   ],
   "source": [
    "A+B"
   ]
  },
  {
   "cell_type": "code",
   "execution_count": 27,
   "metadata": {
    "collapsed": false
   },
   "outputs": [
    {
     "data": {
      "text/plain": [
       "array([ 0.   ,  0.125,  0.25 ,  0.375,  0.5  ])"
      ]
     },
     "execution_count": 27,
     "metadata": {},
     "output_type": "execute_result"
    }
   ],
   "source": [
    "A/2"
   ]
  },
  {
   "cell_type": "code",
   "execution_count": 28,
   "metadata": {
    "collapsed": false
   },
   "outputs": [
    {
     "name": "stderr",
     "output_type": "stream",
     "text": [
      "/Users/owilkman/.virtualenvs/test/lib/python3.5/site-packages/ipykernel/__main__.py:1: RuntimeWarning: divide by zero encountered in true_divide\n",
      "  if __name__ == '__main__':\n"
     ]
    },
    {
     "data": {
      "text/plain": [
       "array([         inf,  42.        ,  22.        ,  15.33333333,  12.        ])"
      ]
     },
     "execution_count": 28,
     "metadata": {},
     "output_type": "execute_result"
    }
   ],
   "source": [
    "B/A"
   ]
  },
  {
   "cell_type": "code",
   "execution_count": 29,
   "metadata": {
    "collapsed": false
   },
   "outputs": [
    {
     "data": {
      "text/plain": [
       "array([  0.   ,   2.625,   5.5  ,   8.625,  12.   ])"
      ]
     },
     "execution_count": 29,
     "metadata": {},
     "output_type": "execute_result"
    }
   ],
   "source": [
    "A*B"
   ]
  },
  {
   "cell_type": "markdown",
   "metadata": {},
   "source": [
    "Comparison operators with numbers return arrays of truth values."
   ]
  },
  {
   "cell_type": "code",
   "execution_count": 30,
   "metadata": {
    "collapsed": false
   },
   "outputs": [
    {
     "data": {
      "text/plain": [
       "array([ True,  True,  True, False, False], dtype=bool)"
      ]
     },
     "execution_count": 30,
     "metadata": {},
     "output_type": "execute_result"
    }
   ],
   "source": [
    "A < 0.6"
   ]
  },
  {
   "cell_type": "code",
   "execution_count": 31,
   "metadata": {
    "collapsed": false
   },
   "outputs": [
    {
     "data": {
      "text/plain": [
       "array([False, False, False, False, False], dtype=bool)"
      ]
     },
     "execution_count": 31,
     "metadata": {},
     "output_type": "execute_result"
    }
   ],
   "source": [
    "A == B"
   ]
  },
  {
   "cell_type": "markdown",
   "metadata": {},
   "source": [
    "## Masked arrays"
   ]
  },
  {
   "cell_type": "code",
   "execution_count": 80,
   "metadata": {
    "collapsed": false
   },
   "outputs": [
    {
     "data": {
      "text/plain": [
       "array([-5., -4., -3., -2., -1.,  0.,  1.,  2.,  3.,  4.,  5.])"
      ]
     },
     "execution_count": 80,
     "metadata": {},
     "output_type": "execute_result"
    }
   ],
   "source": [
    "D = np.linspace(-5, 5, 11)\n",
    "D"
   ]
  },
  {
   "cell_type": "code",
   "execution_count": 81,
   "metadata": {
    "collapsed": false
   },
   "outputs": [],
   "source": [
    "MD = np.ma.masked_array(D, mask=D<0)"
   ]
  },
  {
   "cell_type": "code",
   "execution_count": 82,
   "metadata": {
    "collapsed": false
   },
   "outputs": [
    {
     "data": {
      "text/plain": [
       "masked_array(data = [-- -- -- -- -- -200.0 1.0 2.0 3.0 4.0 5.0],\n",
       "             mask = [ True  True  True  True  True False False False False False False],\n",
       "       fill_value = 1e+20)"
      ]
     },
     "execution_count": 82,
     "metadata": {},
     "output_type": "execute_result"
    }
   ],
   "source": [
    "D[1] = 100\n",
    "D[5] = -200\n",
    "MD"
   ]
  },
  {
   "cell_type": "markdown",
   "metadata": {},
   "source": [
    "### Array indexing\n",
    "\n",
    "Arrays are indexed with a similar syntax to Python lists. The different dimensions are separated with commas, but otherwise the syntax is practically the same.\n"
   ]
  },
  {
   "cell_type": "code",
   "execution_count": 36,
   "metadata": {
    "collapsed": false
   },
   "outputs": [],
   "source": [
    "C = np.random.uniform(0, 1, (10, 10))"
   ]
  },
  {
   "cell_type": "code",
   "execution_count": 37,
   "metadata": {
    "collapsed": false
   },
   "outputs": [
    {
     "data": {
      "text/plain": [
       "array([ 0.13701147,  0.568855  ,  0.94937067,  0.25324507,  0.82227909,\n",
       "        0.77411587,  0.28388461,  0.60487617,  0.41011629,  0.02081486])"
      ]
     },
     "execution_count": 37,
     "metadata": {},
     "output_type": "execute_result"
    }
   ],
   "source": [
    "C[:,0]"
   ]
  },
  {
   "cell_type": "code",
   "execution_count": 38,
   "metadata": {
    "collapsed": false
   },
   "outputs": [
    {
     "data": {
      "text/plain": [
       "array([[ 0.34250021,  0.14357108,  0.50189439],\n",
       "       [ 0.25994229,  0.04512536,  0.12013059],\n",
       "       [ 0.86258728,  0.05840016,  0.67781497],\n",
       "       [ 0.31084921,  0.05093668,  0.22738337],\n",
       "       [ 0.2355004 ,  0.77326334,  0.55785909],\n",
       "       [ 0.24951063,  0.74487009,  0.44004284],\n",
       "       [ 0.09932246,  0.96868711,  0.54490048],\n",
       "       [ 0.98185925,  0.4399237 ,  0.86486838],\n",
       "       [ 0.70019615,  0.41973647,  0.56472182],\n",
       "       [ 0.65419911,  0.38856358,  0.0829369 ]])"
      ]
     },
     "execution_count": 38,
     "metadata": {},
     "output_type": "execute_result"
    }
   ],
   "source": [
    "C[:, 1:4]"
   ]
  },
  {
   "cell_type": "markdown",
   "metadata": {},
   "source": [
    "Arrays can also be index with a truth value array, which acts as a filter:"
   ]
  },
  {
   "cell_type": "code",
   "execution_count": 39,
   "metadata": {
    "collapsed": false
   },
   "outputs": [
    {
     "data": {
      "text/plain": [
       "array([ 0. ,  0.5,  1. ,  1.5,  2. ,  2.5,  3. ,  3.5,  4. ,  4.5,  5. ])"
      ]
     },
     "execution_count": 39,
     "metadata": {},
     "output_type": "execute_result"
    }
   ],
   "source": [
    "X = np.linspace(0.0, 5.0, 11)\n",
    "X"
   ]
  },
  {
   "cell_type": "code",
   "execution_count": 40,
   "metadata": {
    "collapsed": false
   },
   "outputs": [
    {
     "data": {
      "text/plain": [
       "array([ 0. ,  0.5,  1. ,  1.5,  2. ,  2.5])"
      ]
     },
     "execution_count": 40,
     "metadata": {},
     "output_type": "execute_result"
    }
   ],
   "source": [
    "X[X<3]"
   ]
  },
  {
   "cell_type": "markdown",
   "metadata": {},
   "source": [
    "### Array attributes and methods\n",
    "\n",
    "Like everything in Python, arrays are objects, and have several useful methods and attributes. \n",
    "\n",
    "The _attributes_ are not functions (methods), but fields of the object containing metadata about its shape, size, data type, memory layout etc.. There are a few more used ones:\n",
    "\n",
    "- `A.shape` is a tuple containing the shape of the array\n",
    "- `A.size` is the total number of elements in the array\n",
    "- `A.ndims` is the number of dimensions\n",
    "\n",
    "If `A.shape == (10,2,2)`, then `A.size == 40` and `A.ndims == 3`.\n",
    "\n",
    "The _methods_ are functions associated with the object, which perform some computation or alteration on the array. Some common ones include:\n",
    "\n",
    "- `A.sum()` computes the sum of all the elements in the array.\n",
    "- `A.cumsum()` computes the cumulative sum of all the elements in the array.\n",
    "- `A.mean()` computes the mean value of the elements.\n",
    "- `A.std()` computes the standard deviation of the elements.\n",
    "- `A.min()` and `A.max()` give the minimum and maximum values in the array.\n",
    "- `A.argmin()` and `A.argmax()` give the indices of the minimum and maximum values.\n",
    "- `A.sort(n)` sorts the array along the `n`th axis. The default is `-1`, the last axis.\n",
    "\n",
    "Some of the methods have function equivalents in NumPy. For example, if `A` is an array, then `A.cumsum()` is equivalent to `np.cumsum(A)`.\n",
    "\n",
    "The attribute-like `A.T` returns a transposed copy of the array. This mostly makes sense for 2-D arrays, but the difference between a row vector and a column vector can sometimes matter. Arrays with dimension larger than two can also be transposed.\n",
    "\n",
    "See here for the full list of attributes and methods: http://docs.scipy.org/doc/numpy-1.10.0/reference/arrays.ndarray.html"
   ]
  },
  {
   "cell_type": "code",
   "execution_count": 41,
   "metadata": {
    "collapsed": false
   },
   "outputs": [
    {
     "name": "stdout",
     "output_type": "stream",
     "text": [
      "-2.0 5.0\n",
      "1 3\n"
     ]
    }
   ],
   "source": [
    "A = np.array([1.0, -2.0, 3.0, 5.0, 2.0])\n",
    "\n",
    "print(A.min(), A.max())\n",
    "print(A.argmin(), A.argmax())"
   ]
  },
  {
   "cell_type": "markdown",
   "metadata": {},
   "source": [
    "## Mathematical functions\n",
    "\n",
    "NumPy contains a wide variety of mathematical functions, as one might expect. All of the functions which operate on individual numbers are applied element-wise on arrays.\n",
    "\n",
    "Some common functions include:\n",
    "\n",
    "- Trigonometric: `sin`, `cos`, `tan`, `arcsin`, `arccos`, `arctan`, `arctan2`\n",
    "- Hyperbolic: `sinh`, `cosh`, `tanh` and their arc-versions\n",
    "- Exponential: `exp`, `log`, `log10`, `log2` (`log` is the natural logarithm)\n",
    "- Conversions: `degrees` and `radians`\n",
    "- Rounding: `round`, `ceil`, `floor`\n",
    "- Array reductions: `sum`, `prod`, `cumsum`, `cumprod`\n",
    "- Miscellaneous: `sqrt`, `sign`\n",
    "\n",
    "The full list of mathematical functions can be found here: http://docs.scipy.org/doc/numpy-1.10.0/reference/routines.math.html"
   ]
  },
  {
   "cell_type": "code",
   "execution_count": 47,
   "metadata": {
    "collapsed": false
   },
   "outputs": [
    {
     "name": "stdout",
     "output_type": "stream",
     "text": [
      "X = [ 0.   0.5  1.   1.5  2. ]\n",
      "exp(X) = [ 1.          1.64872127  2.71828183  4.48168907  7.3890561 ]\n",
      "sqrt(X) =  [ 0.          0.70710678  1.          1.22474487  1.41421356]\n",
      "cumsum(X) = [ 0.   0.5  1.5  3.   5. ]\n"
     ]
    }
   ],
   "source": [
    "X = np.linspace(0.0, 2.0, 5)\n",
    "\n",
    "print(\"X =\", X)\n",
    "print(\"exp(X) =\", np.exp(X))\n",
    "print(\"sqrt(X) = \", np.sqrt(X))\n",
    "print(\"cumsum(X) =\", np.cumsum(X))"
   ]
  },
  {
   "cell_type": "markdown",
   "metadata": {},
   "source": [
    "## Random generators\n",
    "\n",
    "The submodule `numpy.random` contains a wide variety of random number generators. Two common ones are:\n",
    "\n",
    "- Standard uniform $U(0,1)$: `rand`\n",
    "- Standard normal $N(0,1)$: `randn`\n",
    "\n",
    "For some reason (Matlab compatibility?), the shape of the output array is given differently for these two functions: instead of a tuple, the shape is given as individual integer parameters. This can confuse sometimes!\n",
    "\n",
    "Below we create arrays with shape `(2,2)`, from the normal distribution $N(0,1)$ and the gamma distribution $\\text{Gamma}(0, 1)$.\n"
   ]
  },
  {
   "cell_type": "code",
   "execution_count": 50,
   "metadata": {
    "collapsed": false
   },
   "outputs": [
    {
     "data": {
      "text/plain": [
       "array([[-1.03077509,  1.63345059],\n",
       "       [ 0.63494436, -1.5790757 ]])"
      ]
     },
     "execution_count": 50,
     "metadata": {},
     "output_type": "execute_result"
    }
   ],
   "source": [
    "# Shape as two separate integers:\n",
    "np.random.randn(2,2)"
   ]
  },
  {
   "cell_type": "code",
   "execution_count": 52,
   "metadata": {
    "collapsed": false
   },
   "outputs": [
    {
     "data": {
      "text/plain": [
       "array([[ 0.41933058,  1.78708324],\n",
       "       [ 0.12619899,  0.22086469]])"
      ]
     },
     "execution_count": 52,
     "metadata": {},
     "output_type": "execute_result"
    }
   ],
   "source": [
    "# However, for others, the shape is a tuple like usual:\n",
    "np.random.gamma(1, 2, (2,2))"
   ]
  },
  {
   "cell_type": "code",
   "execution_count": 51,
   "metadata": {
    "collapsed": false
   },
   "outputs": [
    {
     "data": {
      "text/plain": [
       "array([[ 0.21425167, -1.17950703],\n",
       "       [-0.01592099, -0.45682954]])"
      ]
     },
     "execution_count": 51,
     "metadata": {},
     "output_type": "execute_result"
    }
   ],
   "source": [
    "np.random.normal(0.0, 1.0, (2,2)) # equivalent to M1"
   ]
  },
  {
   "cell_type": "markdown",
   "metadata": {},
   "source": [
    "## Linear algebra\n",
    "\n",
    "## Arrays in linear algebra\n",
    "\n",
    "One-dimensional arrays can be used as vectors and two-dimensional arrays as matrices. However, as you saw above, the multiplication of arrays is element-wise multiplication, not matrix multiplication. Matrix multiplication of arrays can be performed with the function `np.matmul`. This returns an array.\n",
    "\n",
    "An array filled like an identity matrix can be created with `np.eye(N)`, where `N` is the width of the array."
   ]
  },
  {
   "cell_type": "code",
   "execution_count": 83,
   "metadata": {
    "collapsed": true
   },
   "outputs": [],
   "source": [
    "# Define an identity array and two 2x2 arrays\n",
    "I = np.eye(2)\n",
    "X = np.array([[1,2],[3,4]])"
   ]
  },
  {
   "cell_type": "code",
   "execution_count": 87,
   "metadata": {
    "collapsed": false
   },
   "outputs": [
    {
     "data": {
      "text/plain": [
       "array([[ 1.,  0.],\n",
       "       [ 0.,  4.]])"
      ]
     },
     "execution_count": 87,
     "metadata": {},
     "output_type": "execute_result"
    }
   ],
   "source": [
    "# Element-wise multiplication\n",
    "I*X"
   ]
  },
  {
   "cell_type": "code",
   "execution_count": 88,
   "metadata": {
    "collapsed": false
   },
   "outputs": [
    {
     "data": {
      "text/plain": [
       "array([[ 1.,  2.],\n",
       "       [ 3.,  4.]])"
      ]
     },
     "execution_count": 88,
     "metadata": {},
     "output_type": "execute_result"
    }
   ],
   "source": [
    "# Matrix multplication\n",
    "np.dot(I,X)"
   ]
  },
  {
   "cell_type": "markdown",
   "metadata": {},
   "source": [
    "## Matrix objects\n",
    "\n",
    "NumPy also has a separate type for matrices. This is a completely separate array type and works slightly differently from regular arrays. Most improtantly, multiplication between matrices follow matrix multiplication.\n",
    "\n",
    "A matrix can be made from an array with the function `np.matrix`."
   ]
  },
  {
   "cell_type": "code",
   "execution_count": 98,
   "metadata": {
    "collapsed": false
   },
   "outputs": [
    {
     "data": {
      "text/plain": [
       "matrix([[ 1.,  2.],\n",
       "        [ 3.,  4.]])"
      ]
     },
     "execution_count": 98,
     "metadata": {},
     "output_type": "execute_result"
    }
   ],
   "source": [
    "# Matrix multiplication\n",
    "Id = np.matrix(I)\n",
    "M = np.matrix(X)\n",
    "Id * M"
   ]
  },
  {
   "cell_type": "markdown",
   "metadata": {},
   "source": [
    "The linear algebra functions are found in the submodule `np.linalg`. Some important ones are:\n",
    "\n",
    "- `np.linalg.dot` computes the dot product of two vectors (1-D arrays or matrices)\n",
    "- `np.linalg.cross` computes the cross product of two vectors\n",
    "- `np.linalg.norm` computes the L2 norm of a vector or matrix\n",
    "- `np.linalg.inv` computes the inverse of a matrix\n",
    "\n",
    "There are also various functions for solving linear equations, computing eigenvalues and factorizations etc.\n",
    "\n",
    "Documentation for `numpy.linalg`: http://docs.scipy.org/doc/numpy-1.10.0/reference/routines.linalg.html"
   ]
  },
  {
   "cell_type": "code",
   "execution_count": 96,
   "metadata": {
    "collapsed": false
   },
   "outputs": [
    {
     "data": {
      "text/plain": [
       "matrix([[-2. ,  1. ],\n",
       "        [ 1.5, -0.5]])"
      ]
     },
     "execution_count": 96,
     "metadata": {},
     "output_type": "execute_result"
    }
   ],
   "source": [
    "# Example, inverse matrix\n",
    "np.linalg.inv(I*M)"
   ]
  },
  {
   "cell_type": "markdown",
   "metadata": {
    "collapsed": true
   },
   "source": [
    "## SciPy\n",
    "\n",
    "SciPy is a Python package containing many tools for scientific computations. It uses NumPy arrays and these days it is included with a NumPy installation.\n",
    "\n",
    "SciPy contains tools for \"optimization, linear algebra, integration, interpolation, special functions, FFT, signal and image processing, ODE solvers and other tasks common in science and engineering\". There is some overlap between NumPy and SciPy. For example `scipy.linalg` contains all of the same linear algebra functions as `numpy.linalg`, plus some more advanced ones."
   ]
  },
  {
   "cell_type": "markdown",
   "metadata": {},
   "source": [
    "### Curve fitting with SciPy\n",
    "\n",
    "There is a very wide variety of different tools in SciPy. For this tutorial we'll only look at one fairly common optimization problem.\n",
    "\n",
    "`scipy.optimize.curve_fit` is a function which can be used to fit an arbitrary model of the form $y = f(x; a, b, \\ldots) + \\epsilon$, where the unknown parameters to be estimated are $a, b, \\ldots$, and $\\epsilon$ is random noise.\n"
   ]
  },
  {
   "cell_type": "code",
   "execution_count": 99,
   "metadata": {
    "collapsed": true
   },
   "outputs": [],
   "source": [
    "from scipy.optimize import curve_fit"
   ]
  },
  {
   "cell_type": "markdown",
   "metadata": {},
   "source": [
    "Calling `curve_fit` requires us to define a model. This is a function that takes the `x` array and the parameters. For example, let's define the model\n",
    "\n",
    "\\begin{equation}\n",
    "    y = a \\sin(b x)\n",
    "\\end{equation}\n",
    "\n",
    "and also generate some data with this model."
   ]
  },
  {
   "cell_type": "code",
   "execution_count": 100,
   "metadata": {
    "collapsed": false
   },
   "outputs": [],
   "source": [
    "def model(X, a, b):\n",
    "    return a * np.sin(b*X)\n",
    "\n",
    "X = np.linspace(0, 5, 10)\n",
    "epsilon = 0.1 * np.random.randn(10) # random noise\n",
    "Y = model(X, 2.0, 0.33) + epsilon"
   ]
  },
  {
   "cell_type": "markdown",
   "metadata": {},
   "source": [
    "Now, we had some data vectors `X` and `Y`, and we can fit the model paramters to that data by calling"
   ]
  },
  {
   "cell_type": "code",
   "execution_count": 104,
   "metadata": {
    "collapsed": false
   },
   "outputs": [],
   "source": [
    "params, cov = curve_fit(model, X, Y)"
   ]
  },
  {
   "cell_type": "markdown",
   "metadata": {},
   "source": [
    "The function returns two arrays: the first one contains the best-fit parameter values, and the second one is the covariance matrix of the parameters."
   ]
  },
  {
   "cell_type": "code",
   "execution_count": 105,
   "metadata": {
    "collapsed": false
   },
   "outputs": [
    {
     "name": "stdout",
     "output_type": "stream",
     "text": [
      "Best-fit a = 1.9603, b = 0.35529\n"
     ]
    }
   ],
   "source": [
    "print(\"Best-fit a = {:.5}, b = {:.5}\".format(params[0], params[1]))"
   ]
  },
  {
   "cell_type": "code",
   "execution_count": null,
   "metadata": {
    "collapsed": true
   },
   "outputs": [],
   "source": []
  }
 ],
 "metadata": {
  "kernelspec": {
   "display_name": "Python 3",
   "language": "python",
   "name": "python3"
  },
  "language_info": {
   "codemirror_mode": {
    "name": "ipython",
    "version": 3
   },
   "file_extension": ".py",
   "mimetype": "text/x-python",
   "name": "python",
   "nbconvert_exporter": "python",
   "pygments_lexer": "ipython3",
   "version": "3.5.0"
  }
 },
 "nbformat": 4,
 "nbformat_minor": 0
}
