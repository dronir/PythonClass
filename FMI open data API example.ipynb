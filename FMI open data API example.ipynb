{
 "cells": [
  {
   "cell_type": "markdown",
   "metadata": {},
   "source": [
    "# Simple FMI open data API example\n",
    "\n",
    "This is a simple code example that uses the FMI API ot retrieve temperature observations for the last 20 hours at the Kumpula station and prints them out.\n",
    "\n",
    "The three libraries we need are `datetime`, which makes handling timestamps and intervals easier. The `datetime` objects represent instants in time and the `timedelta` objects represent intervals in time."
   ]
  },
  {
   "cell_type": "code",
   "execution_count": 1,
   "metadata": {
    "collapsed": false
   },
   "outputs": [],
   "source": [
    "%matplotlib inline\n",
    "\n",
    "from datetime import datetime, timedelta\n",
    "from urllib import request\n",
    "import xml.etree.ElementTree as ET"
   ]
  },
  {
   "cell_type": "markdown",
   "metadata": {},
   "source": [
    "We store our personal API key in a separate text file so that we don't have to make it publicly available with the code. Reading it from the file into a string is simple."
   ]
  },
  {
   "cell_type": "code",
   "execution_count": 2,
   "metadata": {
    "collapsed": false
   },
   "outputs": [],
   "source": [
    "API_key = open(\"FMI-KEY.txt\",\"r\").read().strip()"
   ]
  },
  {
   "cell_type": "markdown",
   "metadata": {},
   "source": [
    "## Helper functions\n",
    "\n",
    "We start by defining to helper functions. It's generally good style to separate small tasks like this into functions.\n",
    "\n",
    "Here we define a function, which takes a `datetime` object and returns a timestamp as a string, in the format which is required by the API call."
   ]
  },
  {
   "cell_type": "code",
   "execution_count": 11,
   "metadata": {
    "collapsed": true
   },
   "outputs": [],
   "source": [
    "def get_timestring(T):\n",
    "    \"\"\"ISO time string without decimals, end in Z, from datetime object.\"\"\"\n",
    "    return T.strftime(\"%Y-%m-%dT%H:%M:%SZ\")"
   ]
  },
  {
   "cell_type": "markdown",
   "metadata": {},
   "source": [
    "Here we define a function which takes a dictionary (which we'll define below) of the query parameters and formats them into a string in the correct way for the query URL."
   ]
  },
  {
   "cell_type": "code",
   "execution_count": 12,
   "metadata": {
    "collapsed": true
   },
   "outputs": [],
   "source": [
    "def get_paramstring(params):\n",
    "    \"\"\"Generate a query parameter string from dictionary.\"\"\"\n",
    "    kvpairs = [\"&{}={}\".format(*item) for item in params.items()]\n",
    "    return \"\".join(kvpairs)"
   ]
  },
  {
   "cell_type": "markdown",
   "metadata": {},
   "source": [
    "## Generating the query URL\n",
    "\n",
    "First we define a template for the URL which we want to retrieve from the open data server. We will fill out the `KEY`, `ID` and `PARAMS` values later."
   ]
  },
  {
   "cell_type": "code",
   "execution_count": 5,
   "metadata": {
    "collapsed": true
   },
   "outputs": [],
   "source": [
    "QueryURLTemplate = \"http://data.fmi.fi/fmi-apikey/{KEY}/wfs?request=getFeature&storedquery_id={ID}{PARAMS}\""
   ]
  },
  {
   "cell_type": "markdown",
   "metadata": {},
   "source": [
    "Then we define all the parameters of the query. Here we want the end point to be now and the starting point to be 20 hours in the past. The site ID 101004 is the Kumpula station. We'll get observations every 10 minutes, and we're interested only in the temperature."
   ]
  },
  {
   "cell_type": "code",
   "execution_count": 13,
   "metadata": {
    "collapsed": false
   },
   "outputs": [],
   "source": [
    "QueryID = \"fmi::observations::weather::timevaluepair\"\n",
    "\n",
    "Now = datetime.utcnow()\n",
    "Start = Now - timedelta(hours=20)\n",
    "End = Now - timedelta(minutes=0)\n",
    "\n",
    "QueryParams = {\n",
    "    \"fmisid\" : 101004,\n",
    "    \"starttime\" : get_timestring(Start),\n",
    "    \"endtime\" : get_timestring(End),\n",
    "    \"timestep\" : 10,\n",
    "    \"parameters\" : \"temperature\"\n",
    "}"
   ]
  },
  {
   "cell_type": "markdown",
   "metadata": {},
   "source": [
    "We create the parameter string from the `QueryParams` dictionary. Then create the query URL from the template."
   ]
  },
  {
   "cell_type": "code",
   "execution_count": 14,
   "metadata": {
    "collapsed": false
   },
   "outputs": [],
   "source": [
    "parStr = get_paramstring(QueryParams)\n",
    "QueryURL = QueryURLTemplate.format(KEY=API_key, ID=QueryID, PARAMS=parStr)"
   ]
  },
  {
   "cell_type": "markdown",
   "metadata": {},
   "source": [
    "## Retrieving and processing the data\n",
    "\n",
    "Make a HTTP request for the URL, which should retrieve an XML document with the desired data. Use `ElementTree` to parse the XML document into a structure of Python lists."
   ]
  },
  {
   "cell_type": "code",
   "execution_count": 15,
   "metadata": {
    "collapsed": false
   },
   "outputs": [],
   "source": [
    "XMLdata = request.urlopen(QueryURL).read()\n",
    "XMLTree = ET.fromstring(XMLdata)"
   ]
  },
  {
   "cell_type": "markdown",
   "metadata": {},
   "source": [
    "Retrieve the desired list of elements from the XML tree. There are more robust ways of doing this, based on the name of the element, but this works for now.\n",
    "\n",
    "Then each of the elements in the list are looped over and the desired data ertrieved from the elements and printed."
   ]
  },
  {
   "cell_type": "code",
   "execution_count": 16,
   "metadata": {
    "collapsed": false
   },
   "outputs": [],
   "source": [
    "# Some magic to get relevant XML elements (knowing the tree structure):\n",
    "Measurements = [point[0] for point in XMLTree[0][0][6][0]]\n",
    "\n",
    "Times = []\n",
    "Temperatures = []\n",
    "\n",
    "for measurement in Measurements:\n",
    "    timestr = measurement[0].text\n",
    "    timestamp = datetime.strptime(timestr, \"%Y-%m-%dT%H:%M:%SZ\")\n",
    "    temp = float(measurement[1].text)\n",
    "    Times.append(timestamp)\n",
    "    Temperatures.append(temp)"
   ]
  },
  {
   "cell_type": "code",
   "execution_count": 17,
   "metadata": {
    "collapsed": false
   },
   "outputs": [
    {
     "data": {
      "text/plain": [
       "[<matplotlib.lines.Line2D at 0x105490f98>]"
      ]
     },
     "execution_count": 17,
     "metadata": {},
     "output_type": "execute_result"
    },
    {
     "data": {
      "image/png": "[encoded data removed]",
      "text/plain": [
       "<matplotlib.figure.Figure at 0x10547e8d0>"
      ]
     },
     "metadata": {},
     "output_type": "display_data"
    }
   ],
   "source": [
    "import seaborn as sns\n",
    "\n",
    "sns.plt.plot(Times, Temperatures)"
   ]
  },
  {
   "cell_type": "code",
   "execution_count": null,
   "metadata": {
    "collapsed": true
   },
   "outputs": [],
   "source": []
  }
 ],
 "metadata": {
  "kernelspec": {
   "display_name": "Python 3",
   "language": "python",
   "name": "python3"
  },
  "language_info": {
   "codemirror_mode": {
    "name": "ipython",
    "version": 3
   },
   "file_extension": ".py",
   "mimetype": "text/x-python",
   "name": "python",
   "nbconvert_exporter": "python",
   "pygments_lexer": "ipython3",
   "version": "3.5.0"
  }
 },
 "nbformat": 4,
 "nbformat_minor": 0
}
